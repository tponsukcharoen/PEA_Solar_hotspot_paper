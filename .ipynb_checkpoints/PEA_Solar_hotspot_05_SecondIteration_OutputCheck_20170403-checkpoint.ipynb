{
 "cells": [
  {
   "cell_type": "markdown",
   "metadata": {},
   "source": [
    "The goal of this notebook is to check if the result from the first iteration makes sense or not. We will narrow down the range for identifty the optimization after this."
   ]
  },
  {
   "cell_type": "code",
   "execution_count": 1,
   "metadata": {
    "collapsed": false
   },
   "outputs": [
    {
     "name": "stdout",
     "output_type": "stream",
     "text": [
      "2.7.12 |Anaconda 4.2.0 (64-bit)| (default, Jun 29 2016, 11:07:13) [MSC v.1500 64 bit (AMD64)]\n"
     ]
    }
   ],
   "source": [
    "import sys\n",
    "print (sys.version)"
   ]
  },
  {
   "cell_type": "code",
   "execution_count": 2,
   "metadata": {
    "collapsed": false
   },
   "outputs": [],
   "source": [
    "#Specify data directories\n",
    "DataDir = r'C:/Users/Admin/Dropbox/Solar NEM (ERI)/Data manipulation/'\n",
    "OutputDir = r'C:/Users/Admin/Dropbox/Solar NEM (ERI)/PEA_Solar_hotspot_paper/output/'\n",
    "\n",
    "#Specify SDK directory\n",
    "SDKdir = r\"C:/Users/Admin/Downloads/sam-sdk-2016-3-14-r3/languages/python/\"\n",
    "\n",
    "#Import necessary Python libraries\n",
    "import site\n",
    "site.addsitedir(SDKdir)\n",
    "from PySSC import PySSC\n",
    "\n",
    "import csv\n",
    "import os\n",
    "import numpy\n",
    "import pandas as pd\n",
    "\n",
    "%matplotlib inline\n",
    "import matplotlib.pyplot as plt"
   ]
  },
  {
   "cell_type": "code",
   "execution_count": 3,
   "metadata": {
    "collapsed": true
   },
   "outputs": [],
   "source": [
    "output_filenames = os.listdir(OutputDir+'second_iteration/')"
   ]
  },
  {
   "cell_type": "code",
   "execution_count": 4,
   "metadata": {
    "collapsed": false
   },
   "outputs": [
    {
     "data": {
      "text/plain": [
       "495"
      ]
     },
     "execution_count": 4,
     "metadata": {},
     "output_type": "execute_result"
    }
   ],
   "source": [
    "len(output_filenames)/7"
   ]
  },
  {
   "cell_type": "code",
   "execution_count": 5,
   "metadata": {
    "collapsed": false,
    "scrolled": true
   },
   "outputs": [],
   "source": [
    "#read all data as a data frame. This can be long due to large number of files\n",
    "df = pd.DataFrame()\n",
    "for output_filename in output_filenames:\n",
    "    filename = OutputDir + 'second_iteration/'+ output_filename\n",
    "    df = pd.concat([df,pd.read_csv(filename)])"
   ]
  },
  {
   "cell_type": "code",
   "execution_count": 6,
   "metadata": {
    "collapsed": false
   },
   "outputs": [
    {
     "data": {
      "text/plain": [
       "130602"
      ]
     },
     "execution_count": 6,
     "metadata": {},
     "output_type": "execute_result"
    }
   ],
   "source": [
    "len(df)"
   ]
  },
  {
   "cell_type": "code",
   "execution_count": 7,
   "metadata": {
    "collapsed": false
   },
   "outputs": [
    {
     "data": {
      "text/plain": [
       "Index([u'Customer type', u'Scheme', u'Sensitivity', u'Province',\n",
       "       u'system_size', u'NEM sales rate', u'Region', u'Annual energy',\n",
       "       u'Annual load', u'Capacity factor', u'Energy yield', u'LCOE (nominal)',\n",
       "       u'LCOE (real)', u'Bill without system', u'Bill with system',\n",
       "       u'Net saving with system', u'NPV', u'Payback period', u'IRR',\n",
       "       u'Net capital cost'],\n",
       "      dtype='object')"
      ]
     },
     "execution_count": 7,
     "metadata": {},
     "output_type": "execute_result"
    }
   ],
   "source": [
    "df.columns"
   ]
  },
  {
   "cell_type": "markdown",
   "metadata": {},
   "source": [
    "Here one can query the data with customer type, scheme, sensitivity using values directly. The query for specific weather stations requires a little bit of syntax."
   ]
  },
  {
   "cell_type": "code",
   "execution_count": 8,
   "metadata": {
    "collapsed": true
   },
   "outputs": [],
   "source": [
    "#Possible values for query\n",
    "Customer = 'MGS' # Choose from ['Res','Res_TOU','SGS','SGS_TOU','MGS','LGS', 'LGS_BOI']\n",
    "Scheme = 3 # Choose from [1,2,3] 1. Pilot, 2. Net Metering/ NEM, 3. Net billing/ real-time buyback\n",
    "Sensitivity = 1 #1 = below retail/ wholesale, 2 = retail/central case, 3 = above retail/ percent add-on\n",
    "Province = 'UTTARADIT' # Choose from [\"UTTARADIT\",\"TAK\",\"MAE-SOT\",\"PHRAE\",\"PHITSANULOK\", \n",
    "# \t\t\t\t\"PHETCHABUN\", \"PHAYAO\", \"NAN\", \"NAKHON-SAWAN\", \"MAE-SARIANG\", \"MAE-HONG-SON\", \"LOP-BURI\", \n",
    "#               \"LAMPHUN\", \"LAMPANG\",  \"KAM-PAENG-PHET\",\"CHIANG-RAI\", \"CHIANG-MAI\",\"UDON-THANI\", \"UBON-RATCHATHANI\", \n",
    "#               \"THA-TUM\", \"SURIN\", \"SAKON-NAKHON\", \"ROI-ET\", \"NONG-KHAI\", \"NAKHON-RATCHASIMA\", \"NAKHON-PHANOM\", \n",
    "# \t\t\t\t\"MUKDAHAN\", \"LOEI\", \"KHON-KAEN\", \"CHAIYAPHUM\", \"ARANYAPRATHET\", \"THONG-PHA-PHUM\", \"SUPHAN-BURI\", \"SATTAHIP\", \n",
    "# \t\t\t\t\"PRACHIN-BURI\", \"KO-SICHANG\", \"KHLONG-YAI\", \"KANCHANABURI\", \"CHON-BURI\", \"CHANTHABURI\",\n",
    "#                 \"TRANG\", \"SURAT-THANI\", \"SONGKHLA\", \"RANONG\", \"PRACHUAP-KHIRIKHAN\", \n",
    "# \t\t\t\t\"PHUKET-AP\", \"PHUKET\", \"PATTANI\", \"NARATHIWAT\", \"NAKHON-SI-THAMMARAT\", \n",
    "# \t\t\t\t\"KO-SAMUI\", \"KO-LANTA\", \"HUA-HIN\", \"HAT-YAI\", \"CHUMPHON\"]"
   ]
  },
  {
   "cell_type": "code",
   "execution_count": 9,
   "metadata": {
    "collapsed": false
   },
   "outputs": [],
   "source": [
    "#Query without region\n",
    "df_small = df[(df['Customer type'] == Customer)&(df['Scheme'] == Scheme)&(df['Sensitivity'] == Sensitivity)]\n",
    "\n",
    "#Query with region\n",
    "df_small = df[(df['Customer type'] == Customer)&(df['Scheme'] == Scheme)&(df['Sensitivity'] == Sensitivity)\\\n",
    "             &(df['Province']==Province)]"
   ]
  },
  {
   "cell_type": "code",
   "execution_count": 10,
   "metadata": {
    "collapsed": false
   },
   "outputs": [
    {
     "data": {
      "text/plain": [
       "[<matplotlib.lines.Line2D at 0x9b7a198>]"
      ]
     },
     "execution_count": 10,
     "metadata": {},
     "output_type": "execute_result"
    },
    {
     "data": {
      "image/png": "[encoded data removed]",
      "text/plain": [
       "<matplotlib.figure.Figure at 0x9b23908>"
      ]
     },
     "metadata": {},
     "output_type": "display_data"
    }
   ],
   "source": [
    "plt.plot(df_small['system_size'], df_small['Payback period'],'.',color = 'red') "
   ]
  },
  {
   "cell_type": "code",
   "execution_count": 11,
   "metadata": {
    "collapsed": false
   },
   "outputs": [
    {
     "data": {
      "text/plain": [
       "[<matplotlib.lines.Line2D at 0xa10c390>]"
      ]
     },
     "execution_count": 11,
     "metadata": {},
     "output_type": "execute_result"
    },
    {
     "data": {
      "image/png": "[encoded data removed]",
      "text/plain": [
       "<matplotlib.figure.Figure at 0x9b23da0>"
      ]
     },
     "metadata": {},
     "output_type": "display_data"
    }
   ],
   "source": [
    "plt.plot(df_small['system_size'], df_small['NPV'],'.',color = 'red') "
   ]
  },
  {
   "cell_type": "code",
   "execution_count": 12,
   "metadata": {
    "collapsed": false
   },
   "outputs": [
    {
     "data": {
      "text/plain": [
       "[<matplotlib.lines.Line2D at 0x9e58320>]"
      ]
     },
     "execution_count": 12,
     "metadata": {},
     "output_type": "execute_result"
    },
    {
     "data": {
      "image/png": "[encoded data removed]",
      "text/plain": [
       "<matplotlib.figure.Figure at 0xa7773c8>"
      ]
     },
     "metadata": {},
     "output_type": "display_data"
    }
   ],
   "source": [
    "plt.plot(df_small['system_size'], df_small['IRR'],'.',color = 'red') "
   ]
  },
  {
   "cell_type": "code",
   "execution_count": 13,
   "metadata": {
    "collapsed": false
   },
   "outputs": [
    {
     "data": {
      "text/plain": [
       "[<matplotlib.lines.Line2D at 0xa049fd0>]"
      ]
     },
     "execution_count": 13,
     "metadata": {},
     "output_type": "execute_result"
    },
    {
     "data": {
      "image/png": "[encoded data removed]",
      "text/plain": [
       "<matplotlib.figure.Figure at 0xa0c7198>"
      ]
     },
     "metadata": {},
     "output_type": "display_data"
    }
   ],
   "source": [
    "plt.plot(df_small['system_size'], df_small['Annual energy']/df_small['Annual load'],'.',color = 'red') "
   ]
  },
  {
   "cell_type": "markdown",
   "metadata": {},
   "source": [
    "Next we conclude the optimal in the second iteration. We may use this value for the next iteration if you'd like."
   ]
  },
  {
   "cell_type": "code",
   "execution_count": 23,
   "metadata": {
    "collapsed": true
   },
   "outputs": [],
   "source": [
    "Value = 'Payback period'\n",
    "idx = df[['Customer type','Scheme','Sensitivity','Province','system_size']+[Value]]\\\n",
    "     .groupby(['Customer type','Scheme','Sensitivity','Province'])[Value].transform(min) == df[Value]\n",
    "df_extreme = df[idx]\n",
    "df_extreme.to_csv(OutputDir + 'optimal_'+ Value + '_second_iteration.csv')"
   ]
  },
  {
   "cell_type": "code",
   "execution_count": 24,
   "metadata": {
    "collapsed": true
   },
   "outputs": [],
   "source": [
    "Value = 'NPV'\n",
    "idx = df[['Customer type','Scheme','Sensitivity','Province','system_size']+[Value]]\\\n",
    "     .groupby(['Customer type','Scheme','Sensitivity','Province'])[Value].transform(max) == df[Value]\n",
    "df_extreme = df[idx]\n",
    "df_extreme.to_csv(OutputDir + 'optimal_'+ Value + '_second_iteration.csv')"
   ]
  },
  {
   "cell_type": "code",
   "execution_count": 25,
   "metadata": {
    "collapsed": true
   },
   "outputs": [],
   "source": [
    "Value = 'IRR'\n",
    "idx = df[['Customer type','Scheme','Sensitivity','Province','system_size']+[Value]]\\\n",
    "     .groupby(['Customer type','Scheme','Sensitivity','Province'])[Value].transform(max) == df[Value]\n",
    "df_extreme = df[idx]\n",
    "df_extreme.to_csv(OutputDir + 'optimal_'+ Value + '_second_iteration.csv')"
   ]
  },
  {
   "cell_type": "markdown",
   "metadata": {},
   "source": [
    "Here are some query examples on optimal values."
   ]
  },
  {
   "cell_type": "code",
   "execution_count": 17,
   "metadata": {
    "collapsed": true
   },
   "outputs": [],
   "source": [
    "#Query without region\n",
    "df_small = df_extreme[(df_extreme['Customer type'] == Customer)&(df_extreme['Scheme'] == Scheme)\\\n",
    "                      &(df_extreme['Sensitivity'] == Sensitivity)]"
   ]
  },
  {
   "cell_type": "code",
   "execution_count": 18,
   "metadata": {
    "collapsed": false
   },
   "outputs": [],
   "source": [
    "#Example of data query\n",
    "#df_small[['Region','system_size',Value]]"
   ]
  },
  {
   "cell_type": "code",
   "execution_count": 19,
   "metadata": {
    "collapsed": false
   },
   "outputs": [
    {
     "data": {
      "text/plain": [
       "{10.0}"
      ]
     },
     "execution_count": 19,
     "metadata": {},
     "output_type": "execute_result"
    }
   ],
   "source": [
    "df_small = df_extreme[(df_extreme['Customer type'] == Customer)]\n",
    "set(df_small['system_size'])"
   ]
  }
 ],
 "metadata": {
  "anaconda-cloud": {},
  "kernelspec": {
   "display_name": "Python [default]",
   "language": "python",
   "name": "python2"
  },
  "language_info": {
   "codemirror_mode": {
    "name": "ipython",
    "version": 2
   },
   "file_extension": ".py",
   "mimetype": "text/x-python",
   "name": "python",
   "nbconvert_exporter": "python",
   "pygments_lexer": "ipython2",
   "version": "2.7.12"
  }
 },
 "nbformat": 4,
 "nbformat_minor": 1
}
