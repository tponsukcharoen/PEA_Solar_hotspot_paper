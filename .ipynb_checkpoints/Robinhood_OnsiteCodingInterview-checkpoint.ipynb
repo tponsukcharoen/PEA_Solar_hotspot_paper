{
 "cells": [
  {
   "cell_type": "code",
   "execution_count": 1,
   "metadata": {
    "collapsed": true
   },
   "outputs": [],
   "source": [
    "#Problem: compute an expression with complete parentheses\n",
    "#input:  strings with () , int 0-9, +* : s\n",
    "#output: int"
   ]
  },
  {
   "cell_type": "code",
   "execution_count": 25,
   "metadata": {
    "collapsed": false
   },
   "outputs": [],
   "source": [
    "def eval_exp(s):\n",
    "    if len(s) == 1:\n",
    "        return int(s)\n",
    "    else:\n",
    "        new_s = []\n",
    "        for i in range(0,len(s)):\n",
    "            #print new_s\n",
    "            if s[i] in\"(+*\":\n",
    "                new_s += [s[i]]\n",
    "            elif s[i] == \")\":\n",
    "                if len(new_s)<4:\n",
    "                    return -1;\n",
    "                else:\n",
    "                    b = new_s.pop()\n",
    "                    if b not in \"0123456789\":\n",
    "                        return -1;\n",
    "                    else:\n",
    "                        b = int(b)\n",
    "                        \n",
    "                    op = new_s.pop()\n",
    "                    if op not in \"+*\":\n",
    "                        return -1;\n",
    "                    \n",
    "                    a = new_s.pop()\n",
    "                    if a not in \"0123456789\":\n",
    "                        return -1;\n",
    "                    else:\n",
    "                        a = int(a)\n",
    "                    new_s.pop()\n",
    "                    \n",
    "                    if (op=='+'):\n",
    "                        new_s.append(a+b)\n",
    "                    if (op=='*'):\n",
    "                        new_s.append(a*b)\n",
    "            else:\n",
    "                if s[i] not in \"0123456789\":\n",
    "                    return -1;\n",
    "                else:\n",
    "                    new_s += [int(s[i])]\n",
    "        if len(new_s)>1:\n",
    "            return -1;\n",
    "        else:\n",
    "            return new_s[0];\n",
    "                "
   ]
  },
  {
   "cell_type": "code",
   "execution_count": 26,
   "metadata": {
    "collapsed": false
   },
   "outputs": [
    {
     "data": {
      "text/plain": [
       "-1"
      ]
     },
     "execution_count": 26,
     "metadata": {},
     "output_type": "execute_result"
    }
   ],
   "source": [
    "eval_exp(\"(1**)\")"
   ]
  }
 ],
 "metadata": {
  "anaconda-cloud": {},
  "kernelspec": {
   "display_name": "Python [default]",
   "language": "python",
   "name": "python2"
  },
  "language_info": {
   "codemirror_mode": {
    "name": "ipython",
    "version": 2
   },
   "file_extension": ".py",
   "mimetype": "text/x-python",
   "name": "python",
   "nbconvert_exporter": "python",
   "pygments_lexer": "ipython2",
   "version": "2.7.12"
  }
 },
 "nbformat": 4,
 "nbformat_minor": 1
}
