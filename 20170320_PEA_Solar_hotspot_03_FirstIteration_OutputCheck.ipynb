{
 "cells": [
  {
   "cell_type": "markdown",
   "metadata": {},
   "source": [
    "The goal of this notebook is to check if the result from the first iteration makes sense or not. We will narrow down the range for identifty the optimization after this."
   ]
  },
  {
   "cell_type": "code",
   "execution_count": 1,
   "metadata": {
    "collapsed": false
   },
   "outputs": [
    {
     "name": "stdout",
     "output_type": "stream",
     "text": [
      "2.7.12 |Anaconda 4.2.0 (64-bit)| (default, Jun 29 2016, 11:07:13) [MSC v.1500 64 bit (AMD64)]\n"
     ]
    }
   ],
   "source": [
    "import sys\n",
    "print (sys.version)"
   ]
  },
  {
   "cell_type": "code",
   "execution_count": 2,
   "metadata": {
    "collapsed": true
   },
   "outputs": [],
   "source": [
    "SDKdir = r\"C:/Users/Admin/Downloads/sam-sdk-2016-3-14-r3/languages/python/\""
   ]
  },
  {
   "cell_type": "code",
   "execution_count": 3,
   "metadata": {
    "collapsed": false
   },
   "outputs": [],
   "source": [
    "#Import necessary Python libraries\n",
    "import site\n",
    "site.addsitedir(SDKdir)\n",
    "from PySSC import PySSC\n",
    "\n",
    "import csv\n",
    "import os\n",
    "import numpy\n",
    "import pandas as pd\n",
    "import matplotlib.pyplot as plt\n",
    "%matplotlib inline\n",
    "\n",
    "#Specify data directories\n",
    "DataDir = r'C:/Users/Admin/Dropbox/Solar NEM (ERI)/Data manipulation/'\n",
    "OutputDir = r'C:/Users/Admin/Dropbox/Solar NEM (ERI)/PEA_Solar_hotspot_paper/output/'"
   ]
  },
  {
   "cell_type": "code",
   "execution_count": 4,
   "metadata": {
    "collapsed": true
   },
   "outputs": [],
   "source": [
    "output_filenames = os.listdir(OutputDir)"
   ]
  },
  {
   "cell_type": "code",
   "execution_count": 5,
   "metadata": {
    "collapsed": false
   },
   "outputs": [
    {
     "data": {
      "text/plain": [
       "['LGS_1000_10000.csv',\n",
       " 'LGS_BOI_1000_10000.csv',\n",
       " 'MGS_100_1000.csv',\n",
       " 'Res_1_10.csv',\n",
       " 'Res_TOU_1_10.csv',\n",
       " 'SGS_1_10.csv',\n",
       " 'SGS_TOU_1_10.csv']"
      ]
     },
     "execution_count": 5,
     "metadata": {},
     "output_type": "execute_result"
    }
   ],
   "source": [
    "output_filenames"
   ]
  },
  {
   "cell_type": "code",
   "execution_count": 6,
   "metadata": {
    "collapsed": false,
    "scrolled": true
   },
   "outputs": [],
   "source": [
    "#read all data as a data frame\n",
    "df = pd.DataFrame()\n",
    "for output_filename in output_filenames:\n",
    "    filename = OutputDir + output_filename\n",
    "    df = pd.concat([df,pd.read_csv(filename)])"
   ]
  },
  {
   "cell_type": "code",
   "execution_count": 7,
   "metadata": {
    "collapsed": false
   },
   "outputs": [
    {
     "data": {
      "text/plain": [
       "34650"
      ]
     },
     "execution_count": 7,
     "metadata": {},
     "output_type": "execute_result"
    }
   ],
   "source": [
    "len(df)"
   ]
  },
  {
   "cell_type": "code",
   "execution_count": 8,
   "metadata": {
    "collapsed": false
   },
   "outputs": [
    {
     "data": {
      "text/plain": [
       "Index([u'Customer type', u'Scheme', u'Sensitivity', u'system_size',\n",
       "       u'NEM sales rate', u'Region', u'Annual energy', u'Capacity factor',\n",
       "       u'Energy yield', u'LCOE (nominal)', u'LCOE (real)',\n",
       "       u'Bill without system', u'Bill with system', u'Net saving with system',\n",
       "       u'NPV', u'Payback period', u'IRR', u'Net capital cost', u'File name'],\n",
       "      dtype='object')"
      ]
     },
     "execution_count": 8,
     "metadata": {},
     "output_type": "execute_result"
    }
   ],
   "source": [
    "df.columns"
   ]
  },
  {
   "cell_type": "code",
   "execution_count": 29,
   "metadata": {
    "collapsed": false
   },
   "outputs": [],
   "source": [
    "#Define new column: egion\n",
    "df['Region'] = df['File name'].map(lambda x: x.decode(encoding='UTF-8').split('_')[3])"
   ]
  },
  {
   "cell_type": "markdown",
   "metadata": {},
   "source": [
    "Here one can query the data with customer type, scheme, sensitivity using values directly. The query for specific weather stations requires a little bit of syntax."
   ]
  },
  {
   "cell_type": "code",
   "execution_count": 31,
   "metadata": {
    "collapsed": true
   },
   "outputs": [],
   "source": [
    "#Possible values for query\n",
    "Customer = 'MGS' # Choose from ['Res','Res_TOU','SGS','SGS_TOU','MGS','LGS', 'LGS_BOI']\n",
    "Scheme = 3 # Choose from [1,2,3] 1. Pilot, 2. Net Metering/ NEM, 3. Net billing/ real-time buyback\n",
    "Sensitivity = 1 #1 = below retail/ wholesale, 2 = retail/central case, 3 = above retail/ percent add-on\n",
    "Region = 'UTTARADIT' # Choose from [\"UTTARADIT\",\"TAK\",\"MAE-SOT\",\"PHRAE\",\"PHITSANULOK\", \n",
    "# \t\t\t\t\"PHETCHABUN\", \"PHAYAO\", \"NAN\", \"NAKHON-SAWAN\", \"MAE-SARIANG\", \"MAE-HONG-SON\", \"LOP-BURI\", \n",
    "#               \"LAMPHUN\", \"LAMPANG\",  \"KAM-PAENG-PHET\",\"CHIANG-RAI\", \"CHIANG-MAI\",\"UDON-THANI\", \"UBON-RATCHATHANI\", \n",
    "#               \"THA-TUM\", \"SURIN\", \"SAKON-NAKHON\", \"ROI-ET\", \"NONG-KHAI\", \"NAKHON-RATCHASIMA\", \"NAKHON-PHANOM\", \n",
    "# \t\t\t\t\"MUKDAHAN\", \"LOEI\", \"KHON-KAEN\", \"CHAIYAPHUM\", \"ARANYAPRATHET\", \"THONG-PHA-PHUM\", \"SUPHAN-BURI\", \"SATTAHIP\", \n",
    "# \t\t\t\t\"PRACHIN-BURI\", \"KO-SICHANG\", \"KHLONG-YAI\", \"KANCHANABURI\", \"CHON-BURI\", \"CHANTHABURI\",\n",
    "#                 \"TRANG\", \"SURAT-THANI\", \"SONGKHLA\", \"RANONG\", \"PRACHUAP-KHIRIKHAN\", \n",
    "# \t\t\t\t\"PHUKET-AP\", \"PHUKET\", \"PATTANI\", \"NARATHIWAT\", \"NAKHON-SI-THAMMARAT\", \n",
    "# \t\t\t\t\"KO-SAMUI\", \"KO-LANTA\", \"HUA-HIN\", \"HAT-YAI\", \"CHUMPHON\"]"
   ]
  },
  {
   "cell_type": "code",
   "execution_count": 64,
   "metadata": {
    "collapsed": false
   },
   "outputs": [],
   "source": [
    "#Query without region\n",
    "df_small = df[(df['Customer type'] == Customer)&(df['Scheme'] == Scheme)&(df['Sensitivity'] == Sensitivity)]\n",
    "\n",
    "#Query with region\n",
    "#df_small = df[(df['Customer type'] == Customer)&(df['Scheme'] == Scheme)&(df['Sensitivity'] == Sensitivity)\\\n",
    "#             &(df['Region']==Region)]"
   ]
  },
  {
   "cell_type": "code",
   "execution_count": 65,
   "metadata": {
    "collapsed": false
   },
   "outputs": [
    {
     "data": {
      "text/plain": [
       "[<matplotlib.lines.Line2D at 0xb9a8fd0>]"
      ]
     },
     "execution_count": 65,
     "metadata": {},
     "output_type": "execute_result"
    },
    {
     "data": {
      "image/png": "[encoded data removed]",
      "text/plain": [
       "<matplotlib.figure.Figure at 0xbaf7128>"
      ]
     },
     "metadata": {},
     "output_type": "display_data"
    }
   ],
   "source": [
    "plt.plot(df_small['system_size'], df_small['Payback period'],'.',color = 'red') "
   ]
  },
  {
   "cell_type": "code",
   "execution_count": 66,
   "metadata": {
    "collapsed": false
   },
   "outputs": [
    {
     "data": {
      "text/plain": [
       "[<matplotlib.lines.Line2D at 0xcac3748>]"
      ]
     },
     "execution_count": 66,
     "metadata": {},
     "output_type": "execute_result"
    },
    {
     "data": {
      "image/png": "[encoded data removed]",
      "text/plain": [
       "<matplotlib.figure.Figure at 0xba8cf98>"
      ]
     },
     "metadata": {},
     "output_type": "display_data"
    }
   ],
   "source": [
    "plt.plot(df_small['system_size'], df_small['NPV'],'.',color = 'red') "
   ]
  },
  {
   "cell_type": "code",
   "execution_count": 67,
   "metadata": {
    "collapsed": false
   },
   "outputs": [
    {
     "data": {
      "text/plain": [
       "[<matplotlib.lines.Line2D at 0xd7345c0>]"
      ]
     },
     "execution_count": 67,
     "metadata": {},
     "output_type": "execute_result"
    },
    {
     "data": {
      "image/png": "[encoded data removed]",
      "text/plain": [
       "<matplotlib.figure.Figure at 0xbb30ac8>"
      ]
     },
     "metadata": {},
     "output_type": "display_data"
    }
   ],
   "source": [
    "plt.plot(df_small['system_size'], df_small['IRR'],'.',color = 'red') "
   ]
  },
  {
   "cell_type": "markdown",
   "metadata": {},
   "source": [
    "Next we will refine the search around the optimal in the first iteration. First, we idenitify the extreme values in this grid search first."
   ]
  },
  {
   "cell_type": "code",
   "execution_count": 71,
   "metadata": {
    "collapsed": true
   },
   "outputs": [],
   "source": [
    "Value = 'Payback period'\n",
    "idx = df[['Customer type','Scheme','Sensitivity','Region','system_size']+[Value]]\\\n",
    "     .groupby(['Customer type','Scheme','Sensitivity','Region'])[Value].transform(min) == df[Value]\n",
    "df_extreme = df[idx]\n",
    "df_extreme.to_csv(OutputDir + 'optimal_'+ Value + '_first_iteration.csv')"
   ]
  },
  {
   "cell_type": "code",
   "execution_count": 58,
   "metadata": {
    "collapsed": true
   },
   "outputs": [],
   "source": [
    "Value = 'NPV'\n",
    "idx = df[['Customer type','Scheme','Sensitivity','Region','system_size']+[Value]]\\\n",
    "     .groupby(['Customer type','Scheme','Sensitivity','Region'])[Value].transform(max) == df[Value]\n",
    "df_extreme = df[idx]\n",
    "df_extreme.to_csv(OutputDir + 'optimal_'+ Value + '_first_iteration.csv')"
   ]
  },
  {
   "cell_type": "code",
   "execution_count": 70,
   "metadata": {
    "collapsed": true
   },
   "outputs": [],
   "source": [
    "Value = 'IRR'\n",
    "idx = df[['Customer type','Scheme','Sensitivity','Region','system_size']+[Value]]\\\n",
    "     .groupby(['Customer type','Scheme','Sensitivity','Region'])[Value].transform(max) == df[Value]\n",
    "df_extreme = df[idx]\n",
    "df_extreme.to_csv(OutputDir + 'optimal_'+ Value + '_first_iteration.csv')"
   ]
  },
  {
   "cell_type": "markdown",
   "metadata": {},
   "source": [
    "Here are some query examples on optimal values."
   ]
  },
  {
   "cell_type": "code",
   "execution_count": 59,
   "metadata": {
    "collapsed": true
   },
   "outputs": [],
   "source": [
    "#Query without region\n",
    "df_small = df_extreme[(df_extreme['Customer type'] == Customer)&(df_extreme['Scheme'] == Scheme)\\\n",
    "                      &(df_extreme['Sensitivity'] == Sensitivity)]"
   ]
  },
  {
   "cell_type": "code",
   "execution_count": 62,
   "metadata": {
    "collapsed": false
   },
   "outputs": [],
   "source": [
    "#Example of data query\n",
    "#df_small[['Region','system_size',Value]]"
   ]
  },
  {
   "cell_type": "code",
   "execution_count": 63,
   "metadata": {
    "collapsed": false
   },
   "outputs": [
    {
     "data": {
      "text/plain": [
       "{300, 400, 700, 800, 1000}"
      ]
     },
     "execution_count": 63,
     "metadata": {},
     "output_type": "execute_result"
    }
   ],
   "source": [
    "df_small = df_extreme[(df_extreme['Customer type'] == Customer)]\n",
    "set(df_small['system_size'])"
   ]
  }
 ],
 "metadata": {
  "anaconda-cloud": {},
  "kernelspec": {
   "display_name": "Python [default]",
   "language": "python",
   "name": "python2"
  },
  "language_info": {
   "codemirror_mode": {
    "name": "ipython",
    "version": 2
   },
   "file_extension": ".py",
   "mimetype": "text/x-python",
   "name": "python",
   "nbconvert_exporter": "python",
   "pygments_lexer": "ipython2",
   "version": "2.7.12"
  }
 },
 "nbformat": 4,
 "nbformat_minor": 1
}
